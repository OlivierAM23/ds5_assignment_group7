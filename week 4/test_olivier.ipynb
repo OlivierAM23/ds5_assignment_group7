{
 "cells": [
  {
   "cell_type": "code",
   "execution_count": 1,
   "metadata": {},
   "outputs": [],
   "source": [
    "import pandas as pd\n",
    "df=pd.read_excel('hotelBookings.xlsx')"
   ]
  },
  {
   "cell_type": "code",
   "execution_count": 2,
   "metadata": {},
   "outputs": [],
   "source": [
    "#all items in the hotel column are resort hotel and all items in the company column are NaN, therefore these will be removed\n",
    "removed_columns=['hotel','company']\n",
    "df=df[[item for item in df.columns if item not in removed_columns]]"
   ]
  },
  {
   "cell_type": "code",
   "execution_count": 20,
   "metadata": {},
   "outputs": [
    {
     "data": {
      "text/plain": [
       "is_canceled                       False\n",
       "lead_time                         False\n",
       "arrival_date_year                 False\n",
       "arrival_date_month                 True\n",
       "arrival_date_week_number          False\n",
       "arrival_date_day_of_month         False\n",
       "stays_in_weekend_nights           False\n",
       "stays_in_week_nights              False\n",
       "adults                            False\n",
       "children                          False\n",
       "babies                            False\n",
       "meal                              False\n",
       "country                            True\n",
       "market_segment                    False\n",
       "distribution_channel              False\n",
       "is_repeated_guest                 False\n",
       "previous_cancellations            False\n",
       "previous_bookings_not_canceled    False\n",
       "reserved_room_type                False\n",
       "assigned_room_type                False\n",
       "booking_changes                   False\n",
       "deposit_type                      False\n",
       "agent                              True\n",
       "days_in_waiting_list              False\n",
       "customer_type                     False\n",
       "adr                               False\n",
       "required_car_parking_spaces       False\n",
       "total_of_special_requests         False\n",
       "reservation_status                False\n",
       "reservation_status_date           False\n",
       "dtype: bool"
      ]
     },
     "execution_count": 20,
     "metadata": {},
     "output_type": "execute_result"
    }
   ],
   "source": [
    "df.isna().any(axis=0)"
   ]
  }
 ],
 "metadata": {
  "kernelspec": {
   "display_name": "base",
   "language": "python",
   "name": "python3"
  },
  "language_info": {
   "codemirror_mode": {
    "name": "ipython",
    "version": 3
   },
   "file_extension": ".py",
   "mimetype": "text/x-python",
   "name": "python",
   "nbconvert_exporter": "python",
   "pygments_lexer": "ipython3",
   "version": "3.12.4"
  }
 },
 "nbformat": 4,
 "nbformat_minor": 2
}
