{
 "cells": [
  {
   "cell_type": "markdown",
   "metadata": {},
   "source": [
    "## Exercise 1: Structuring a given code"
   ]
  },
  {
   "cell_type": "markdown",
   "metadata": {},
   "source": [
    "### original"
   ]
  },
  {
   "cell_type": "code",
   "execution_count": 20,
   "metadata": {},
   "outputs": [
    {
     "ename": "FileNotFoundError",
     "evalue": "[Errno 2] No such file or directory: ''",
     "output_type": "error",
     "traceback": [
      "\u001b[1;31m---------------------------------------------------------------------------\u001b[0m",
      "\u001b[1;31mFileNotFoundError\u001b[0m                         Traceback (most recent call last)",
      "Cell \u001b[1;32mIn[20], line 3\u001b[0m\n\u001b[0;32m      1\u001b[0m file_path \u001b[38;5;241m=\u001b[39m \u001b[38;5;28minput\u001b[39m(\u001b[38;5;124m\"\u001b[39m\u001b[38;5;124mEnter the path to the CSV file: \u001b[39m\u001b[38;5;124m\"\u001b[39m)\n\u001b[0;32m      2\u001b[0m records \u001b[38;5;241m=\u001b[39m []\n\u001b[1;32m----> 3\u001b[0m \u001b[38;5;28;01mwith\u001b[39;00m \u001b[38;5;28mopen\u001b[39m(file_path, \u001b[38;5;124m'\u001b[39m\u001b[38;5;124mr\u001b[39m\u001b[38;5;124m'\u001b[39m) \u001b[38;5;28;01mas\u001b[39;00m file:\n\u001b[0;32m      4\u001b[0m     csv_reader \u001b[38;5;241m=\u001b[39m csv\u001b[38;5;241m.\u001b[39mDictReader(file)\n\u001b[0;32m      5\u001b[0m     \u001b[38;5;28;01mfor\u001b[39;00m row \u001b[38;5;129;01min\u001b[39;00m csv_reader:\n",
      "File \u001b[1;32mc:\\ProgramData\\anaconda3\\Lib\\site-packages\\IPython\\core\\interactiveshell.py:284\u001b[0m, in \u001b[0;36m_modified_open\u001b[1;34m(file, *args, **kwargs)\u001b[0m\n\u001b[0;32m    277\u001b[0m \u001b[38;5;28;01mif\u001b[39;00m file \u001b[38;5;129;01min\u001b[39;00m {\u001b[38;5;241m0\u001b[39m, \u001b[38;5;241m1\u001b[39m, \u001b[38;5;241m2\u001b[39m}:\n\u001b[0;32m    278\u001b[0m     \u001b[38;5;28;01mraise\u001b[39;00m \u001b[38;5;167;01mValueError\u001b[39;00m(\n\u001b[0;32m    279\u001b[0m         \u001b[38;5;124mf\u001b[39m\u001b[38;5;124m\"\u001b[39m\u001b[38;5;124mIPython won\u001b[39m\u001b[38;5;124m'\u001b[39m\u001b[38;5;124mt let you open fd=\u001b[39m\u001b[38;5;132;01m{\u001b[39;00mfile\u001b[38;5;132;01m}\u001b[39;00m\u001b[38;5;124m by default \u001b[39m\u001b[38;5;124m\"\u001b[39m\n\u001b[0;32m    280\u001b[0m         \u001b[38;5;124m\"\u001b[39m\u001b[38;5;124mas it is likely to crash IPython. If you know what you are doing, \u001b[39m\u001b[38;5;124m\"\u001b[39m\n\u001b[0;32m    281\u001b[0m         \u001b[38;5;124m\"\u001b[39m\u001b[38;5;124myou can use builtins\u001b[39m\u001b[38;5;124m'\u001b[39m\u001b[38;5;124m open.\u001b[39m\u001b[38;5;124m\"\u001b[39m\n\u001b[0;32m    282\u001b[0m     )\n\u001b[1;32m--> 284\u001b[0m \u001b[38;5;28;01mreturn\u001b[39;00m io_open(file, \u001b[38;5;241m*\u001b[39margs, \u001b[38;5;241m*\u001b[39m\u001b[38;5;241m*\u001b[39mkwargs)\n",
      "\u001b[1;31mFileNotFoundError\u001b[0m: [Errno 2] No such file or directory: ''"
     ]
    }
   ],
   "source": [
    "file_path = input(\"Enter the path to the CSV file: \")\n",
    "records = []\n",
    "with open(file_path, 'r') as file:\n",
    "    csv_reader = csv.DictReader(file)\n",
    "    for row in csv_reader:\n",
    "        records.append(row)\n",
    "\n",
    "total = sum(float(record['Grade']) for record in records)\n",
    "average = total / len(records)\n",
    "\n",
    "print(f\"Average Grade: {average}\")\n",
    "print(\"--------------------\")\n",
    "\n",
    "filtered_records = [record for record in records if float(record['Grade']) >= 80.0]\n",
    "\n",
    "print(\"Student Report\")\n",
    "print(\"--------------\")\n",
    "for record in filtered_records:\n",
    "    print(f\"Name: {record['Name']}\")\n",
    "    print(f\"Grade: {record['Grade']}\")\n",
    "    print(\"--------------------\")\n"
   ]
  },
  {
   "cell_type": "markdown",
   "metadata": {},
   "source": [
    "### changed"
   ]
  },
  {
   "cell_type": "code",
   "execution_count": null,
   "metadata": {},
   "outputs": [],
   "source": [
    "#code used to load in the csv file\n",
    "file_path = input(\"Enter the path to the CSV file: \")\n",
    "records = []\n",
    "with open(file_path, 'r') as file:\n",
    "    csv_reader = csv.DictReader(file)\n",
    "    for row in csv_reader:\n",
    "        records.append(row)\n",
    "\n",
    "#this function return the average grade of all students from the inputted list\n",
    "def avg_grade(inpt):\n",
    "    total = sum(float(record['Grade']) for record in inpt)\n",
    "    return total / len(records)\n",
    "\n",
    "def avg_grade_print(inpt):\n",
    "    print(f\"Average Grade: {inpt}\")\n",
    "    print(\"--------------------\")\n",
    "\n",
    "#this function return a list of all students who achieved a grade higher that 80.0\n",
    "def starstudents(inpt):\n",
    "    return [item for item in inpt if float(item['Grade']) >= 80.0]\n",
    "\n",
    "#this function prints the name and grade of all student in the input list\n",
    "def student_report_print(inpt):\n",
    "    print(\"Student Report\")\n",
    "    print(\"--------------\")\n",
    "    for record in inpt:\n",
    "        print(f\"Name: {record['Name']}\")\n",
    "        print(f\"Grade: {record['Grade']}\")\n",
    "        print(\"--------------------\")\n",
    "\n",
    "#the part of the code that caused the desired values in the records to be found\n",
    "filtered_records = starstudents(records)\n",
    "average = avg_grade(records)\n",
    "\n",
    "#prints the desired values\n",
    "avg_grade_print(average)\n",
    "student_report_print(filtered_records)\n",
    "\n"
   ]
  },
  {
   "cell_type": "markdown",
   "metadata": {},
   "source": [
    "## Exercise 2: Mandelbrot visualisation"
   ]
  },
  {
   "cell_type": "code",
   "execution_count": 3,
   "metadata": {},
   "outputs": [],
   "source": [
    "import numpy as np\n",
    "import matplotlib.pyplot as plt\n",
    "import matplotlib.patches as patches"
   ]
  },
  {
   "cell_type": "code",
   "execution_count": 46,
   "metadata": {},
   "outputs": [
    {
     "data": {
      "image/png": "[encoded data removed]",
      "text/plain": [
       "<Figure size 640x480 with 1 Axes>"
      ]
     },
     "metadata": {},
     "output_type": "display_data"
    }
   ],
   "source": [
    "#this function makes a mandelbroth set with n amount of iterations using the complex value x+yj (n,x,y)\n",
    "def mandelbroth(n,x,y):\n",
    "    c = complex(x,y)\n",
    "    a=np.array([0])\n",
    "    for i in range(n):\n",
    "        a=np.append(a,a[i]**2+c)\n",
    "    return a\n",
    "#this function takes a numpy array of complex numbers and puts these in a matplotlib.pyplot plot\n",
    "def plot_complex(inpt):\n",
    "    plt.plot(inpt.real, inpt.imag, 'o', color = 'red', markersize = 10)\n",
    "    plt.xlim([-1.5,0.5])\n",
    "    plt.ylim([-1,1])\n",
    "#end of defining functions begining in inputing values\n",
    "plot_complex(mandelbroth(10,1,1))\n",
    "#this is wrong probably\n"
   ]
  },
  {
   "cell_type": "markdown",
   "metadata": {},
   "source": [
    "## Exercise 3: Google PageRank algorithm and the worldwide web"
   ]
  },
  {
   "cell_type": "code",
   "execution_count": null,
   "metadata": {},
   "outputs": [],
   "source": []
  }
 ],
 "metadata": {
  "kernelspec": {
   "display_name": "base",
   "language": "python",
   "name": "python3"
  },
  "language_info": {
   "codemirror_mode": {
    "name": "ipython",
    "version": 3
   },
   "file_extension": ".py",
   "mimetype": "text/x-python",
   "name": "python",
   "nbconvert_exporter": "python",
   "pygments_lexer": "ipython3",
   "version": "3.11.4"
  }
 },
 "nbformat": 4,
 "nbformat_minor": 2
}
