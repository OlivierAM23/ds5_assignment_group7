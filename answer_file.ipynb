{
 "cells": [
  {
   "cell_type": "markdown",
   "metadata": {},
   "source": [
    "## Exercise 1: Structuring a given code"
   ]
  },
  {
   "cell_type": "markdown",
   "metadata": {},
   "source": [
    "### original"
   ]
  },
  {
   "cell_type": "code",
   "execution_count": 2,
   "metadata": {},
   "outputs": [],
   "source": [
    "file_path = input(\"Enter the path to the CSV file: \")\n",
    "records = []\n",
    "with open(file_path, 'r') as file:\n",
    "    csv_reader = csv.DictReader(file)\n",
    "    for row in csv_reader:\n",
    "        records.append(row)\n",
    "\n",
    "total = sum(float(record['Grade']) for record in records)\n",
    "average = total / len(records)\n",
    "\n",
    "print(f\"Average Grade: {average}\")\n",
    "print(\"--------------------\")\n",
    "\n",
    "filtered_records = [record for record in records if float(record['Grade']) >= 80.0]\n",
    "\n",
    "print(\"Student Report\")\n",
    "print(\"--------------\")\n",
    "for record in filtered_records:\n",
    "    print(f\"Name: {record['Name']}\")\n",
    "    print(f\"Grade: {record['Grade']}\")\n",
    "    print(\"--------------------\")\n"
   ]
  },
  {
   "cell_type": "markdown",
   "metadata": {},
   "source": [
    "### changed"
   ]
  },
  {
   "cell_type": "code",
   "execution_count": null,
   "metadata": {},
   "outputs": [],
   "source": [
    "#code used to load in the csv file\n",
    "file_path = input(\"Enter the path to the CSV file: \")\n",
    "records = []\n",
    "with open(file_path, 'r') as file:\n",
    "    csv_reader = csv.DictReader(file)\n",
    "    for row in csv_reader:\n",
    "        records.append(row)\n",
    "\n",
    "#this function return the average grade of all students from the inputted list\n",
    "def avg_grade(inpt):\n",
    "    total = sum(float(record['Grade']) for record in inpt)\n",
    "    return total / len(records)\n",
    "\n",
    "def avg_grade_print(inpt):\n",
    "    print(f\"Average Grade: {inpt}\")\n",
    "    print(\"--------------------\")\n",
    "\n",
    "#this function return a list of all students who achieved a grade higher that 80.0\n",
    "def starstudents(inpt):\n",
    "    return [item for item in inpt if float(item['Grade']) >= 80.0]\n",
    "\n",
    "#this function prints the name and grade of all student in the input list\n",
    "def student_report_print(inpt):\n",
    "    print(\"Student Report\")\n",
    "    print(\"--------------\")\n",
    "    for record in inpt:\n",
    "        print(f\"Name: {record['Name']}\")\n",
    "        print(f\"Grade: {record['Grade']}\")\n",
    "        print(\"--------------------\")\n",
    "\n",
    "#the part of the code that caused the desired values in the records to be found\n",
    "filtered_records = starstudents(records)\n",
    "average = avg_grade(records)\n",
    "\n",
    "#prints the desired values\n",
    "avg_grade_print(average)\n",
    "student_report_print(filtered_records)\n",
    "\n"
   ]
  },
  {
   "cell_type": "markdown",
   "metadata": {},
   "source": [
    "## Exercise 2: Mandelbrot visualisation"
   ]
  },
  {
   "cell_type": "code",
   "execution_count": 5,
   "metadata": {},
   "outputs": [],
   "source": [
    "import numpy as np\n",
    "import matplotlib.pyplot as plt"
   ]
  },
  {
   "cell_type": "code",
   "execution_count": 10,
   "metadata": {},
   "outputs": [
    {
     "data": {
      "image/png": "[encoded data removed]",
      "text/plain": [
       "<Figure size 640x480 with 1 Axes>"
      ]
     },
     "metadata": {},
     "output_type": "display_data"
    }
   ],
   "source": [
    "#this function makes a mandelbroth set with n amount of iterations using the complex value x+yj (n,x,y)\n",
    "def mandelbroth(n,x,y):\n",
    "    c = complex(x,y)\n",
    "    a=np.array([0])\n",
    "    for i in range(n):\n",
    "        a=np.append(a,a[i]**2+c)\n",
    "    return a\n",
    "#this function takes a numpy array of complex numbers and puts these in a matplotlib.pyplot plot\n",
    "def plot_complex(inpt):\n",
    "    plt.plot(inpt.real, inpt.imag)\n",
    "    plt.xlim([-1.5,0.5])\n",
    "    plt.ylim([-1,1])\n",
    "#end of defining functions begining in inputing values\n",
    "plot_complex(mandelbroth(10,1,1))\n",
    "#this is wrong probably"
   ]
  },
  {
   "cell_type": "markdown",
   "metadata": {},
   "source": [
    "## Exercise 3: Google PageRank algorithm and the worldwide web"
   ]
  },
  {
   "cell_type": "code",
   "execution_count": null,
   "metadata": {},
   "outputs": [],
   "source": []
  }
 ],
 "metadata": {
  "kernelspec": {
   "display_name": "base",
   "language": "python",
   "name": "python3"
  },
  "language_info": {
   "codemirror_mode": {
    "name": "ipython",
    "version": 3
   },
   "file_extension": ".py",
   "mimetype": "text/x-python",
   "name": "python",
   "nbconvert_exporter": "python",
   "pygments_lexer": "ipython3",
   "version": "3.12.4"
  }
 },
 "nbformat": 4,
 "nbformat_minor": 2
}
