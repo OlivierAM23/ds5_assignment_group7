{
 "cells": [
  {
   "cell_type": "markdown",
   "metadata": {},
   "source": [
    "## Exercise 1: Structuring a given code"
   ]
  },
  {
   "cell_type": "markdown",
   "metadata": {},
   "source": [
    "### original"
   ]
  },
  {
   "cell_type": "code",
   "execution_count": 2,
   "metadata": {},
   "outputs": [],
   "source": [
    "file_path = input(\"Enter the path to the CSV file: \")\n",
    "records = []\n",
    "with open(file_path, 'r') as file:\n",
    "    csv_reader = csv.DictReader(file)\n",
    "    for row in csv_reader:\n",
    "        records.append(row)\n",
    "\n",
    "total = sum(float(record['Grade']) for record in records)\n",
    "average = total / len(records)\n",
    "\n",
    "print(f\"Average Grade: {average}\")\n",
    "print(\"--------------------\")\n",
    "\n",
    "filtered_records = [record for record in records if float(record['Grade']) >= 80.0]\n",
    "\n",
    "print(\"Student Report\")\n",
    "print(\"--------------\")\n",
    "for record in filtered_records:\n",
    "    print(f\"Name: {record['Name']}\")\n",
    "print(f\"Grade: {record['Grade']}\")\n",
    "print(\"--------------------\")\n"
   ]
  },
  {
   "cell_type": "markdown",
   "metadata": {},
   "source": [
    "### changed"
   ]
  },
  {
   "cell_type": "code",
   "execution_count": null,
   "metadata": {},
   "outputs": [],
   "source": [
    "file_path = input(\"Enter the path to the CSV file: \")\n",
    "records = []\n",
    "with open(file_path, 'r') as file:\n",
    "    csv_reader = csv.DictReader(file)\n",
    "    for row in csv_reader:\n",
    "        records.append(row)\n",
    "\n",
    "total = sum(float(record['Grade']) for record in records)\n",
    "average = total / len(records)\n",
    "\n",
    "print(f\"Average Grade: {average}\")\n",
    "print(\"--------------------\")\n",
    "\n",
    "filtered_records = [record for record in records if float(record['Grade']) >= 80.0]\n",
    "\n",
    "print(\"Student Report\")\n",
    "print(\"--------------\")\n",
    "for record in filtered_records:\n",
    "    print(f\"Name: {record['Name']}\")\n",
    "print(f\"Grade: {record['Grade']}\")\n",
    "print(\"--------------------\")"
   ]
  },
  {
   "cell_type": "markdown",
   "metadata": {},
   "source": [
    "## Exercise 2: Mandelbrot visualisation"
   ]
  },
  {
   "cell_type": "code",
   "execution_count": null,
   "metadata": {},
   "outputs": [],
   "source": []
  },
  {
   "cell_type": "markdown",
   "metadata": {},
   "source": [
    "## Exercise 3: Google PageRank algorithm and the worldwide web"
   ]
  },
  {
   "cell_type": "code",
   "execution_count": null,
   "metadata": {},
   "outputs": [],
   "source": []
  }
 ],
 "metadata": {
  "kernelspec": {
   "display_name": "base",
   "language": "python",
   "name": "python3"
  },
  "language_info": {
   "codemirror_mode": {
    "name": "ipython",
    "version": 3
   },
   "file_extension": ".py",
   "mimetype": "text/x-python",
   "name": "python",
   "nbconvert_exporter": "python",
   "pygments_lexer": "ipython3",
   "version": "3.12.4"
  }
 },
 "nbformat": 4,
 "nbformat_minor": 2
}
