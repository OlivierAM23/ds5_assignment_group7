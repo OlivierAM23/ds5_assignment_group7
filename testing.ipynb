{
 "cells": [
  {
   "cell_type": "code",
   "execution_count": 10,
   "metadata": {},
   "outputs": [],
   "source": [
    "import numpy as np\n",
    "import matplotlib.pyplot as plt"
   ]
  },
  {
   "cell_type": "code",
   "execution_count": 8,
   "metadata": {},
   "outputs": [
    {
     "data": {
      "text/plain": [
       "[0,\n",
       " (1+1j),\n",
       " (1+3j),\n",
       " (-7+7j),\n",
       " (1-97j),\n",
       " (-9407-193j),\n",
       " (88454401+3631103j),\n",
       " (7810996147272193+642374081668607j),\n",
       " (6.059901635190146e+31+1.0035162954042004e+31j),\n",
       " (3.5715362873038435e+63+1.2162420078919744e+63j),\n",
       " (1.1276626829767021e+127+8.687704930658948e+126j)]"
      ]
     },
     "execution_count": 8,
     "metadata": {},
     "output_type": "execute_result"
    }
   ],
   "source": [
    "c = complex(1,1)\n",
    "a=[0]\n",
    "for i in range(10):\n",
    "    a.append(a[i]**2+c)\n",
    "a"
   ]
  },
  {
   "cell_type": "code",
   "execution_count": 28,
   "metadata": {},
   "outputs": [
    {
     "name": "stderr",
     "output_type": "stream",
     "text": [
      "C:\\Users\\olivi\\AppData\\Local\\Temp\\ipykernel_5304\\560352563.py:4: RuntimeWarning: overflow encountered in scalar power\n",
      "  a=np.append(a,a[i]**2+c)\n",
      "C:\\Users\\olivi\\AppData\\Local\\Temp\\ipykernel_5304\\560352563.py:4: RuntimeWarning: invalid value encountered in scalar power\n",
      "  a=np.append(a,a[i]**2+c)\n"
     ]
    },
    {
     "data": {
      "text/plain": [
       "array([ 0.00000000e+000+0.00000000e+000j,\n",
       "        1.00000000e+000+1.00000000e+000j,\n",
       "        1.00000000e+000+3.00000000e+000j,\n",
       "       -7.00000000e+000+7.00000000e+000j,\n",
       "        1.00000000e+000-9.70000000e+001j,\n",
       "       -9.40700000e+003-1.93000000e+002j,\n",
       "        8.84544010e+007+3.63110300e+006j,\n",
       "        7.81099615e+015+6.42374082e+014j,\n",
       "        6.05990164e+031+1.00351630e+031j,\n",
       "        3.57153629e+063+1.21624201e+063j,\n",
       "        1.12766268e+127+8.68770493e+126j,\n",
       "        5.16860957e+253+1.95936013e+254j,\n",
       "                    nan            +infj,\n",
       "                    nan            +nanj,\n",
       "                    nan            +nanj,\n",
       "                    nan            +nanj,\n",
       "                    nan            +nanj,\n",
       "                    nan            +nanj,\n",
       "                    nan            +nanj,\n",
       "                    nan            +nanj,\n",
       "                    nan            +nanj,\n",
       "                    nan            +nanj,\n",
       "                    nan            +nanj,\n",
       "                    nan            +nanj,\n",
       "                    nan            +nanj,\n",
       "                    nan            +nanj,\n",
       "                    nan            +nanj,\n",
       "                    nan            +nanj,\n",
       "                    nan            +nanj,\n",
       "                    nan            +nanj,\n",
       "                    nan            +nanj,\n",
       "                    nan            +nanj,\n",
       "                    nan            +nanj,\n",
       "                    nan            +nanj,\n",
       "                    nan            +nanj,\n",
       "                    nan            +nanj,\n",
       "                    nan            +nanj,\n",
       "                    nan            +nanj,\n",
       "                    nan            +nanj,\n",
       "                    nan            +nanj,\n",
       "                    nan            +nanj,\n",
       "                    nan            +nanj,\n",
       "                    nan            +nanj,\n",
       "                    nan            +nanj,\n",
       "                    nan            +nanj,\n",
       "                    nan            +nanj,\n",
       "                    nan            +nanj,\n",
       "                    nan            +nanj,\n",
       "                    nan            +nanj,\n",
       "                    nan            +nanj,\n",
       "                    nan            +nanj,\n",
       "                    nan            +nanj,\n",
       "                    nan            +nanj,\n",
       "                    nan            +nanj,\n",
       "                    nan            +nanj,\n",
       "                    nan            +nanj,\n",
       "                    nan            +nanj,\n",
       "                    nan            +nanj,\n",
       "                    nan            +nanj,\n",
       "                    nan            +nanj,\n",
       "                    nan            +nanj,\n",
       "                    nan            +nanj,\n",
       "                    nan            +nanj,\n",
       "                    nan            +nanj,\n",
       "                    nan            +nanj,\n",
       "                    nan            +nanj,\n",
       "                    nan            +nanj,\n",
       "                    nan            +nanj,\n",
       "                    nan            +nanj,\n",
       "                    nan            +nanj,\n",
       "                    nan            +nanj,\n",
       "                    nan            +nanj,\n",
       "                    nan            +nanj,\n",
       "                    nan            +nanj,\n",
       "                    nan            +nanj,\n",
       "                    nan            +nanj,\n",
       "                    nan            +nanj,\n",
       "                    nan            +nanj,\n",
       "                    nan            +nanj,\n",
       "                    nan            +nanj,\n",
       "                    nan            +nanj,\n",
       "                    nan            +nanj,\n",
       "                    nan            +nanj,\n",
       "                    nan            +nanj,\n",
       "                    nan            +nanj,\n",
       "                    nan            +nanj,\n",
       "                    nan            +nanj,\n",
       "                    nan            +nanj,\n",
       "                    nan            +nanj,\n",
       "                    nan            +nanj,\n",
       "                    nan            +nanj,\n",
       "                    nan            +nanj,\n",
       "                    nan            +nanj,\n",
       "                    nan            +nanj,\n",
       "                    nan            +nanj,\n",
       "                    nan            +nanj,\n",
       "                    nan            +nanj,\n",
       "                    nan            +nanj,\n",
       "                    nan            +nanj,\n",
       "                    nan            +nanj,\n",
       "                    nan            +nanj])"
      ]
     },
     "execution_count": 28,
     "metadata": {},
     "output_type": "execute_result"
    }
   ],
   "source": [
    "c = complex(1,1)\n",
    "a=np.array([0])\n",
    "for i in range(100):\n",
    "    a=np.append(a,a[i]**2+c)\n",
    "a"
   ]
  },
  {
   "cell_type": "code",
   "execution_count": 29,
   "metadata": {},
   "outputs": [
    {
     "data": {
      "text/plain": [
       "[<matplotlib.lines.Line2D at 0x1cd1426b920>]"
      ]
     },
     "execution_count": 29,
     "metadata": {},
     "output_type": "execute_result"
    },
    {
     "data": {
      "image/png": "[encoded data removed]",
      "text/plain": [
       "<Figure size 640x480 with 1 Axes>"
      ]
     },
     "metadata": {},
     "output_type": "display_data"
    }
   ],
   "source": [
    "plt.plot(a.real, a.imag)"
   ]
  },
  {
   "cell_type": "code",
   "execution_count": 17,
   "metadata": {},
   "outputs": [],
   "source": [
    "b=np.array([complex(0,0),complex(0,1), complex(1,1), complex(1,0)])"
   ]
  },
  {
   "cell_type": "code",
   "execution_count": 24,
   "metadata": {},
   "outputs": [
    {
     "data": {
      "text/plain": [
       "[<matplotlib.lines.Line2D at 0x1cd143cf4d0>]"
      ]
     },
     "execution_count": 24,
     "metadata": {},
     "output_type": "execute_result"
    },
    {
     "data": {
      "image/png": "[encoded data removed]",
      "text/plain": [
       "<Figure size 640x480 with 1 Axes>"
      ]
     },
     "metadata": {},
     "output_type": "display_data"
    }
   ],
   "source": [
    "plt.plot(b.real,b.imag)"
   ]
  },
  {
   "cell_type": "code",
   "execution_count": 23,
   "metadata": {},
   "outputs": [
    {
     "data": {
      "text/plain": [
       "array([0., 0., 1., 1.])"
      ]
     },
     "execution_count": 23,
     "metadata": {},
     "output_type": "execute_result"
    }
   ],
   "source": [
    "b.real"
   ]
  }
 ],
 "metadata": {
  "kernelspec": {
   "display_name": "base",
   "language": "python",
   "name": "python3"
  },
  "language_info": {
   "codemirror_mode": {
    "name": "ipython",
    "version": 3
   },
   "file_extension": ".py",
   "mimetype": "text/x-python",
   "name": "python",
   "nbconvert_exporter": "python",
   "pygments_lexer": "ipython3",
   "version": "3.12.4"
  }
 },
 "nbformat": 4,
 "nbformat_minor": 2
}
